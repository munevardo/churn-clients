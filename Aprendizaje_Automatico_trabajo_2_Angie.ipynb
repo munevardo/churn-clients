{
  "nbformat": 4,
  "nbformat_minor": 0,
  "metadata": {
    "colab": {
      "provenance": []
    },
    "kernelspec": {
      "name": "python3",
      "display_name": "Python 3"
    },
    "language_info": {
      "name": "python"
    }
  },
  "cells": [
    {
      "cell_type": "markdown",
      "source": [
        "##**ACTIVIDAD: problema de fuga de clientes**\n",
        "####**Grupo 9:**\n",
        "\n",
        "*   Angie Catherine Collazos Valenzuela\n",
        "*   José Munévar Diaz\n",
        "*   Iván Valderrama Corredor"
      ],
      "metadata": {
        "id": "hFglCEzKyU9X"
      }
    },
    {
      "cell_type": "markdown",
      "source": [
        "####**ENTENDIMIENTO DE LOS DATOS**"
      ],
      "metadata": {
        "id": "bu3AHe21066f"
      }
    },
    {
      "cell_type": "code",
      "source": [
        "# Importamos librerias\n",
        "import pandas as pd\n",
        "import numpy as np\n",
        "import matplotlib.pyplot as plt\n",
        "import seaborn as sns\n",
        "\n",
        "# Cargar dataset (ajusta la ruta si lo tienes local)\n",
        "import kagglehub\n",
        "\n",
        "# Download latest version\n",
        "path = kagglehub.dataset_download(\"blastchar/telco-customer-churn\")\n",
        "\n",
        "print(\"Path to dataset files:\", path)\n",
        "\n",
        "# Cargar dataset\n",
        "df = pd.read_csv(\"/kaggle/input/telco-customer-churn/WA_Fn-UseC_-Telco-Customer-Churn.csv\")\n",
        "\n",
        "# Ver las primeras filas\n",
        "print(df.shape)\n",
        "df.head()\n"
      ],
      "metadata": {
        "colab": {
          "base_uri": "https://localhost:8080/",
          "height": 377
        },
        "id": "LLRVpEkH00MS",
        "outputId": "f0c73357-99e5-483e-9078-f6dd203e76ed"
      },
      "execution_count": 1,
      "outputs": [
        {
          "output_type": "stream",
          "name": "stdout",
          "text": [
            "Path to dataset files: /kaggle/input/telco-customer-churn\n",
            "(7043, 21)\n"
          ]
        },
        {
          "output_type": "execute_result",
          "data": {
            "text/plain": [
              "   customerID  gender  SeniorCitizen Partner Dependents  tenure PhoneService  \\\n",
              "0  7590-VHVEG  Female              0     Yes         No       1           No   \n",
              "1  5575-GNVDE    Male              0      No         No      34          Yes   \n",
              "2  3668-QPYBK    Male              0      No         No       2          Yes   \n",
              "3  7795-CFOCW    Male              0      No         No      45           No   \n",
              "4  9237-HQITU  Female              0      No         No       2          Yes   \n",
              "\n",
              "      MultipleLines InternetService OnlineSecurity  ... DeviceProtection  \\\n",
              "0  No phone service             DSL             No  ...               No   \n",
              "1                No             DSL            Yes  ...              Yes   \n",
              "2                No             DSL            Yes  ...               No   \n",
              "3  No phone service             DSL            Yes  ...              Yes   \n",
              "4                No     Fiber optic             No  ...               No   \n",
              "\n",
              "  TechSupport StreamingTV StreamingMovies        Contract PaperlessBilling  \\\n",
              "0          No          No              No  Month-to-month              Yes   \n",
              "1          No          No              No        One year               No   \n",
              "2          No          No              No  Month-to-month              Yes   \n",
              "3         Yes          No              No        One year               No   \n",
              "4          No          No              No  Month-to-month              Yes   \n",
              "\n",
              "               PaymentMethod MonthlyCharges  TotalCharges Churn  \n",
              "0           Electronic check          29.85         29.85    No  \n",
              "1               Mailed check          56.95        1889.5    No  \n",
              "2               Mailed check          53.85        108.15   Yes  \n",
              "3  Bank transfer (automatic)          42.30       1840.75    No  \n",
              "4           Electronic check          70.70        151.65   Yes  \n",
              "\n",
              "[5 rows x 21 columns]"
            ],
            "text/html": [
              "\n",
              "  <div id=\"df-7a36fbea-34c6-4c25-ad08-da3665e2adfe\" class=\"colab-df-container\">\n",
              "    <div>\n",
              "<style scoped>\n",
              "    .dataframe tbody tr th:only-of-type {\n",
              "        vertical-align: middle;\n",
              "    }\n",
              "\n",
              "    .dataframe tbody tr th {\n",
              "        vertical-align: top;\n",
              "    }\n",
              "\n",
              "    .dataframe thead th {\n",
              "        text-align: right;\n",
              "    }\n",
              "</style>\n",
              "<table border=\"1\" class=\"dataframe\">\n",
              "  <thead>\n",
              "    <tr style=\"text-align: right;\">\n",
              "      <th></th>\n",
              "      <th>customerID</th>\n",
              "      <th>gender</th>\n",
              "      <th>SeniorCitizen</th>\n",
              "      <th>Partner</th>\n",
              "      <th>Dependents</th>\n",
              "      <th>tenure</th>\n",
              "      <th>PhoneService</th>\n",
              "      <th>MultipleLines</th>\n",
              "      <th>InternetService</th>\n",
              "      <th>OnlineSecurity</th>\n",
              "      <th>...</th>\n",
              "      <th>DeviceProtection</th>\n",
              "      <th>TechSupport</th>\n",
              "      <th>StreamingTV</th>\n",
              "      <th>StreamingMovies</th>\n",
              "      <th>Contract</th>\n",
              "      <th>PaperlessBilling</th>\n",
              "      <th>PaymentMethod</th>\n",
              "      <th>MonthlyCharges</th>\n",
              "      <th>TotalCharges</th>\n",
              "      <th>Churn</th>\n",
              "    </tr>\n",
              "  </thead>\n",
              "  <tbody>\n",
              "    <tr>\n",
              "      <th>0</th>\n",
              "      <td>7590-VHVEG</td>\n",
              "      <td>Female</td>\n",
              "      <td>0</td>\n",
              "      <td>Yes</td>\n",
              "      <td>No</td>\n",
              "      <td>1</td>\n",
              "      <td>No</td>\n",
              "      <td>No phone service</td>\n",
              "      <td>DSL</td>\n",
              "      <td>No</td>\n",
              "      <td>...</td>\n",
              "      <td>No</td>\n",
              "      <td>No</td>\n",
              "      <td>No</td>\n",
              "      <td>No</td>\n",
              "      <td>Month-to-month</td>\n",
              "      <td>Yes</td>\n",
              "      <td>Electronic check</td>\n",
              "      <td>29.85</td>\n",
              "      <td>29.85</td>\n",
              "      <td>No</td>\n",
              "    </tr>\n",
              "    <tr>\n",
              "      <th>1</th>\n",
              "      <td>5575-GNVDE</td>\n",
              "      <td>Male</td>\n",
              "      <td>0</td>\n",
              "      <td>No</td>\n",
              "      <td>No</td>\n",
              "      <td>34</td>\n",
              "      <td>Yes</td>\n",
              "      <td>No</td>\n",
              "      <td>DSL</td>\n",
              "      <td>Yes</td>\n",
              "      <td>...</td>\n",
              "      <td>Yes</td>\n",
              "      <td>No</td>\n",
              "      <td>No</td>\n",
              "      <td>No</td>\n",
              "      <td>One year</td>\n",
              "      <td>No</td>\n",
              "      <td>Mailed check</td>\n",
              "      <td>56.95</td>\n",
              "      <td>1889.5</td>\n",
              "      <td>No</td>\n",
              "    </tr>\n",
              "    <tr>\n",
              "      <th>2</th>\n",
              "      <td>3668-QPYBK</td>\n",
              "      <td>Male</td>\n",
              "      <td>0</td>\n",
              "      <td>No</td>\n",
              "      <td>No</td>\n",
              "      <td>2</td>\n",
              "      <td>Yes</td>\n",
              "      <td>No</td>\n",
              "      <td>DSL</td>\n",
              "      <td>Yes</td>\n",
              "      <td>...</td>\n",
              "      <td>No</td>\n",
              "      <td>No</td>\n",
              "      <td>No</td>\n",
              "      <td>No</td>\n",
              "      <td>Month-to-month</td>\n",
              "      <td>Yes</td>\n",
              "      <td>Mailed check</td>\n",
              "      <td>53.85</td>\n",
              "      <td>108.15</td>\n",
              "      <td>Yes</td>\n",
              "    </tr>\n",
              "    <tr>\n",
              "      <th>3</th>\n",
              "      <td>7795-CFOCW</td>\n",
              "      <td>Male</td>\n",
              "      <td>0</td>\n",
              "      <td>No</td>\n",
              "      <td>No</td>\n",
              "      <td>45</td>\n",
              "      <td>No</td>\n",
              "      <td>No phone service</td>\n",
              "      <td>DSL</td>\n",
              "      <td>Yes</td>\n",
              "      <td>...</td>\n",
              "      <td>Yes</td>\n",
              "      <td>Yes</td>\n",
              "      <td>No</td>\n",
              "      <td>No</td>\n",
              "      <td>One year</td>\n",
              "      <td>No</td>\n",
              "      <td>Bank transfer (automatic)</td>\n",
              "      <td>42.30</td>\n",
              "      <td>1840.75</td>\n",
              "      <td>No</td>\n",
              "    </tr>\n",
              "    <tr>\n",
              "      <th>4</th>\n",
              "      <td>9237-HQITU</td>\n",
              "      <td>Female</td>\n",
              "      <td>0</td>\n",
              "      <td>No</td>\n",
              "      <td>No</td>\n",
              "      <td>2</td>\n",
              "      <td>Yes</td>\n",
              "      <td>No</td>\n",
              "      <td>Fiber optic</td>\n",
              "      <td>No</td>\n",
              "      <td>...</td>\n",
              "      <td>No</td>\n",
              "      <td>No</td>\n",
              "      <td>No</td>\n",
              "      <td>No</td>\n",
              "      <td>Month-to-month</td>\n",
              "      <td>Yes</td>\n",
              "      <td>Electronic check</td>\n",
              "      <td>70.70</td>\n",
              "      <td>151.65</td>\n",
              "      <td>Yes</td>\n",
              "    </tr>\n",
              "  </tbody>\n",
              "</table>\n",
              "<p>5 rows × 21 columns</p>\n",
              "</div>\n",
              "    <div class=\"colab-df-buttons\">\n",
              "\n",
              "  <div class=\"colab-df-container\">\n",
              "    <button class=\"colab-df-convert\" onclick=\"convertToInteractive('df-7a36fbea-34c6-4c25-ad08-da3665e2adfe')\"\n",
              "            title=\"Convert this dataframe to an interactive table.\"\n",
              "            style=\"display:none;\">\n",
              "\n",
              "  <svg xmlns=\"http://www.w3.org/2000/svg\" height=\"24px\" viewBox=\"0 -960 960 960\">\n",
              "    <path d=\"M120-120v-720h720v720H120Zm60-500h600v-160H180v160Zm220 220h160v-160H400v160Zm0 220h160v-160H400v160ZM180-400h160v-160H180v160Zm440 0h160v-160H620v160ZM180-180h160v-160H180v160Zm440 0h160v-160H620v160Z\"/>\n",
              "  </svg>\n",
              "    </button>\n",
              "\n",
              "  <style>\n",
              "    .colab-df-container {\n",
              "      display:flex;\n",
              "      gap: 12px;\n",
              "    }\n",
              "\n",
              "    .colab-df-convert {\n",
              "      background-color: #E8F0FE;\n",
              "      border: none;\n",
              "      border-radius: 50%;\n",
              "      cursor: pointer;\n",
              "      display: none;\n",
              "      fill: #1967D2;\n",
              "      height: 32px;\n",
              "      padding: 0 0 0 0;\n",
              "      width: 32px;\n",
              "    }\n",
              "\n",
              "    .colab-df-convert:hover {\n",
              "      background-color: #E2EBFA;\n",
              "      box-shadow: 0px 1px 2px rgba(60, 64, 67, 0.3), 0px 1px 3px 1px rgba(60, 64, 67, 0.15);\n",
              "      fill: #174EA6;\n",
              "    }\n",
              "\n",
              "    .colab-df-buttons div {\n",
              "      margin-bottom: 4px;\n",
              "    }\n",
              "\n",
              "    [theme=dark] .colab-df-convert {\n",
              "      background-color: #3B4455;\n",
              "      fill: #D2E3FC;\n",
              "    }\n",
              "\n",
              "    [theme=dark] .colab-df-convert:hover {\n",
              "      background-color: #434B5C;\n",
              "      box-shadow: 0px 1px 3px 1px rgba(0, 0, 0, 0.15);\n",
              "      filter: drop-shadow(0px 1px 2px rgba(0, 0, 0, 0.3));\n",
              "      fill: #FFFFFF;\n",
              "    }\n",
              "  </style>\n",
              "\n",
              "    <script>\n",
              "      const buttonEl =\n",
              "        document.querySelector('#df-7a36fbea-34c6-4c25-ad08-da3665e2adfe button.colab-df-convert');\n",
              "      buttonEl.style.display =\n",
              "        google.colab.kernel.accessAllowed ? 'block' : 'none';\n",
              "\n",
              "      async function convertToInteractive(key) {\n",
              "        const element = document.querySelector('#df-7a36fbea-34c6-4c25-ad08-da3665e2adfe');\n",
              "        const dataTable =\n",
              "          await google.colab.kernel.invokeFunction('convertToInteractive',\n",
              "                                                    [key], {});\n",
              "        if (!dataTable) return;\n",
              "\n",
              "        const docLinkHtml = 'Like what you see? Visit the ' +\n",
              "          '<a target=\"_blank\" href=https://colab.research.google.com/notebooks/data_table.ipynb>data table notebook</a>'\n",
              "          + ' to learn more about interactive tables.';\n",
              "        element.innerHTML = '';\n",
              "        dataTable['output_type'] = 'display_data';\n",
              "        await google.colab.output.renderOutput(dataTable, element);\n",
              "        const docLink = document.createElement('div');\n",
              "        docLink.innerHTML = docLinkHtml;\n",
              "        element.appendChild(docLink);\n",
              "      }\n",
              "    </script>\n",
              "  </div>\n",
              "\n",
              "\n",
              "    <div id=\"df-faac13f2-8515-4a69-a043-52de0cc7b679\">\n",
              "      <button class=\"colab-df-quickchart\" onclick=\"quickchart('df-faac13f2-8515-4a69-a043-52de0cc7b679')\"\n",
              "                title=\"Suggest charts\"\n",
              "                style=\"display:none;\">\n",
              "\n",
              "<svg xmlns=\"http://www.w3.org/2000/svg\" height=\"24px\"viewBox=\"0 0 24 24\"\n",
              "     width=\"24px\">\n",
              "    <g>\n",
              "        <path d=\"M19 3H5c-1.1 0-2 .9-2 2v14c0 1.1.9 2 2 2h14c1.1 0 2-.9 2-2V5c0-1.1-.9-2-2-2zM9 17H7v-7h2v7zm4 0h-2V7h2v10zm4 0h-2v-4h2v4z\"/>\n",
              "    </g>\n",
              "</svg>\n",
              "      </button>\n",
              "\n",
              "<style>\n",
              "  .colab-df-quickchart {\n",
              "      --bg-color: #E8F0FE;\n",
              "      --fill-color: #1967D2;\n",
              "      --hover-bg-color: #E2EBFA;\n",
              "      --hover-fill-color: #174EA6;\n",
              "      --disabled-fill-color: #AAA;\n",
              "      --disabled-bg-color: #DDD;\n",
              "  }\n",
              "\n",
              "  [theme=dark] .colab-df-quickchart {\n",
              "      --bg-color: #3B4455;\n",
              "      --fill-color: #D2E3FC;\n",
              "      --hover-bg-color: #434B5C;\n",
              "      --hover-fill-color: #FFFFFF;\n",
              "      --disabled-bg-color: #3B4455;\n",
              "      --disabled-fill-color: #666;\n",
              "  }\n",
              "\n",
              "  .colab-df-quickchart {\n",
              "    background-color: var(--bg-color);\n",
              "    border: none;\n",
              "    border-radius: 50%;\n",
              "    cursor: pointer;\n",
              "    display: none;\n",
              "    fill: var(--fill-color);\n",
              "    height: 32px;\n",
              "    padding: 0;\n",
              "    width: 32px;\n",
              "  }\n",
              "\n",
              "  .colab-df-quickchart:hover {\n",
              "    background-color: var(--hover-bg-color);\n",
              "    box-shadow: 0 1px 2px rgba(60, 64, 67, 0.3), 0 1px 3px 1px rgba(60, 64, 67, 0.15);\n",
              "    fill: var(--button-hover-fill-color);\n",
              "  }\n",
              "\n",
              "  .colab-df-quickchart-complete:disabled,\n",
              "  .colab-df-quickchart-complete:disabled:hover {\n",
              "    background-color: var(--disabled-bg-color);\n",
              "    fill: var(--disabled-fill-color);\n",
              "    box-shadow: none;\n",
              "  }\n",
              "\n",
              "  .colab-df-spinner {\n",
              "    border: 2px solid var(--fill-color);\n",
              "    border-color: transparent;\n",
              "    border-bottom-color: var(--fill-color);\n",
              "    animation:\n",
              "      spin 1s steps(1) infinite;\n",
              "  }\n",
              "\n",
              "  @keyframes spin {\n",
              "    0% {\n",
              "      border-color: transparent;\n",
              "      border-bottom-color: var(--fill-color);\n",
              "      border-left-color: var(--fill-color);\n",
              "    }\n",
              "    20% {\n",
              "      border-color: transparent;\n",
              "      border-left-color: var(--fill-color);\n",
              "      border-top-color: var(--fill-color);\n",
              "    }\n",
              "    30% {\n",
              "      border-color: transparent;\n",
              "      border-left-color: var(--fill-color);\n",
              "      border-top-color: var(--fill-color);\n",
              "      border-right-color: var(--fill-color);\n",
              "    }\n",
              "    40% {\n",
              "      border-color: transparent;\n",
              "      border-right-color: var(--fill-color);\n",
              "      border-top-color: var(--fill-color);\n",
              "    }\n",
              "    60% {\n",
              "      border-color: transparent;\n",
              "      border-right-color: var(--fill-color);\n",
              "    }\n",
              "    80% {\n",
              "      border-color: transparent;\n",
              "      border-right-color: var(--fill-color);\n",
              "      border-bottom-color: var(--fill-color);\n",
              "    }\n",
              "    90% {\n",
              "      border-color: transparent;\n",
              "      border-bottom-color: var(--fill-color);\n",
              "    }\n",
              "  }\n",
              "</style>\n",
              "\n",
              "      <script>\n",
              "        async function quickchart(key) {\n",
              "          const quickchartButtonEl =\n",
              "            document.querySelector('#' + key + ' button');\n",
              "          quickchartButtonEl.disabled = true;  // To prevent multiple clicks.\n",
              "          quickchartButtonEl.classList.add('colab-df-spinner');\n",
              "          try {\n",
              "            const charts = await google.colab.kernel.invokeFunction(\n",
              "                'suggestCharts', [key], {});\n",
              "          } catch (error) {\n",
              "            console.error('Error during call to suggestCharts:', error);\n",
              "          }\n",
              "          quickchartButtonEl.classList.remove('colab-df-spinner');\n",
              "          quickchartButtonEl.classList.add('colab-df-quickchart-complete');\n",
              "        }\n",
              "        (() => {\n",
              "          let quickchartButtonEl =\n",
              "            document.querySelector('#df-faac13f2-8515-4a69-a043-52de0cc7b679 button');\n",
              "          quickchartButtonEl.style.display =\n",
              "            google.colab.kernel.accessAllowed ? 'block' : 'none';\n",
              "        })();\n",
              "      </script>\n",
              "    </div>\n",
              "\n",
              "    </div>\n",
              "  </div>\n"
            ],
            "application/vnd.google.colaboratory.intrinsic+json": {
              "type": "dataframe",
              "variable_name": "df"
            }
          },
          "metadata": {},
          "execution_count": 1
        }
      ]
    },
    {
      "cell_type": "markdown",
      "source": [
        "Aqui tenemos un panorama de la base de datos a usar, con la variable CHURN, con valores de \"yes\" y \"no\""
      ],
      "metadata": {
        "id": "haUujBgCxPcM"
      }
    },
    {
      "cell_type": "code",
      "source": [
        "\n",
        "shape = df.shape\n",
        "shape"
      ],
      "metadata": {
        "colab": {
          "base_uri": "https://localhost:8080/"
        },
        "id": "N5qknPMjxJeF",
        "outputId": "609f0805-bc92-4372-dd45-027437e57435"
      },
      "execution_count": 2,
      "outputs": [
        {
          "output_type": "execute_result",
          "data": {
            "text/plain": [
              "(7043, 21)"
            ]
          },
          "metadata": {},
          "execution_count": 2
        }
      ]
    },
    {
      "cell_type": "markdown",
      "source": [
        "tenemos un total de 7043 registros con 21 atributos incluido la variable clase"
      ],
      "metadata": {
        "id": "wIONXeFrxh5Z"
      }
    },
    {
      "cell_type": "code",
      "source": [
        "df.dtypes"
      ],
      "metadata": {
        "colab": {
          "base_uri": "https://localhost:8080/",
          "height": 743
        },
        "id": "z_gNsVHTxp-8",
        "outputId": "abba011d-6724-45c1-ff18-4d3a71f08228"
      },
      "execution_count": 3,
      "outputs": [
        {
          "output_type": "execute_result",
          "data": {
            "text/plain": [
              "customerID           object\n",
              "gender               object\n",
              "SeniorCitizen         int64\n",
              "Partner              object\n",
              "Dependents           object\n",
              "tenure                int64\n",
              "PhoneService         object\n",
              "MultipleLines        object\n",
              "InternetService      object\n",
              "OnlineSecurity       object\n",
              "OnlineBackup         object\n",
              "DeviceProtection     object\n",
              "TechSupport          object\n",
              "StreamingTV          object\n",
              "StreamingMovies      object\n",
              "Contract             object\n",
              "PaperlessBilling     object\n",
              "PaymentMethod        object\n",
              "MonthlyCharges      float64\n",
              "TotalCharges         object\n",
              "Churn                object\n",
              "dtype: object"
            ],
            "text/html": [
              "<div>\n",
              "<style scoped>\n",
              "    .dataframe tbody tr th:only-of-type {\n",
              "        vertical-align: middle;\n",
              "    }\n",
              "\n",
              "    .dataframe tbody tr th {\n",
              "        vertical-align: top;\n",
              "    }\n",
              "\n",
              "    .dataframe thead th {\n",
              "        text-align: right;\n",
              "    }\n",
              "</style>\n",
              "<table border=\"1\" class=\"dataframe\">\n",
              "  <thead>\n",
              "    <tr style=\"text-align: right;\">\n",
              "      <th></th>\n",
              "      <th>0</th>\n",
              "    </tr>\n",
              "  </thead>\n",
              "  <tbody>\n",
              "    <tr>\n",
              "      <th>customerID</th>\n",
              "      <td>object</td>\n",
              "    </tr>\n",
              "    <tr>\n",
              "      <th>gender</th>\n",
              "      <td>object</td>\n",
              "    </tr>\n",
              "    <tr>\n",
              "      <th>SeniorCitizen</th>\n",
              "      <td>int64</td>\n",
              "    </tr>\n",
              "    <tr>\n",
              "      <th>Partner</th>\n",
              "      <td>object</td>\n",
              "    </tr>\n",
              "    <tr>\n",
              "      <th>Dependents</th>\n",
              "      <td>object</td>\n",
              "    </tr>\n",
              "    <tr>\n",
              "      <th>tenure</th>\n",
              "      <td>int64</td>\n",
              "    </tr>\n",
              "    <tr>\n",
              "      <th>PhoneService</th>\n",
              "      <td>object</td>\n",
              "    </tr>\n",
              "    <tr>\n",
              "      <th>MultipleLines</th>\n",
              "      <td>object</td>\n",
              "    </tr>\n",
              "    <tr>\n",
              "      <th>InternetService</th>\n",
              "      <td>object</td>\n",
              "    </tr>\n",
              "    <tr>\n",
              "      <th>OnlineSecurity</th>\n",
              "      <td>object</td>\n",
              "    </tr>\n",
              "    <tr>\n",
              "      <th>OnlineBackup</th>\n",
              "      <td>object</td>\n",
              "    </tr>\n",
              "    <tr>\n",
              "      <th>DeviceProtection</th>\n",
              "      <td>object</td>\n",
              "    </tr>\n",
              "    <tr>\n",
              "      <th>TechSupport</th>\n",
              "      <td>object</td>\n",
              "    </tr>\n",
              "    <tr>\n",
              "      <th>StreamingTV</th>\n",
              "      <td>object</td>\n",
              "    </tr>\n",
              "    <tr>\n",
              "      <th>StreamingMovies</th>\n",
              "      <td>object</td>\n",
              "    </tr>\n",
              "    <tr>\n",
              "      <th>Contract</th>\n",
              "      <td>object</td>\n",
              "    </tr>\n",
              "    <tr>\n",
              "      <th>PaperlessBilling</th>\n",
              "      <td>object</td>\n",
              "    </tr>\n",
              "    <tr>\n",
              "      <th>PaymentMethod</th>\n",
              "      <td>object</td>\n",
              "    </tr>\n",
              "    <tr>\n",
              "      <th>MonthlyCharges</th>\n",
              "      <td>float64</td>\n",
              "    </tr>\n",
              "    <tr>\n",
              "      <th>TotalCharges</th>\n",
              "      <td>object</td>\n",
              "    </tr>\n",
              "    <tr>\n",
              "      <th>Churn</th>\n",
              "      <td>object</td>\n",
              "    </tr>\n",
              "  </tbody>\n",
              "</table>\n",
              "</div><br><label><b>dtype:</b> object</label>"
            ]
          },
          "metadata": {},
          "execution_count": 3
        }
      ]
    },
    {
      "cell_type": "code",
      "source": [
        "print(df.dtypes.value_counts())  # cuántas variables son object (categóricas) y cuántas numéricas"
      ],
      "metadata": {
        "colab": {
          "base_uri": "https://localhost:8080/"
        },
        "id": "jRnLN0Xx59u-",
        "outputId": "f45ae596-3718-41f0-d4ab-94b684cbbbc5"
      },
      "execution_count": 4,
      "outputs": [
        {
          "output_type": "stream",
          "name": "stdout",
          "text": [
            "object     18\n",
            "int64       2\n",
            "float64     1\n",
            "Name: count, dtype: int64\n"
          ]
        }
      ]
    },
    {
      "cell_type": "code",
      "source": [
        "df['Churn'].value_counts()"
      ],
      "metadata": {
        "colab": {
          "base_uri": "https://localhost:8080/",
          "height": 178
        },
        "id": "AQ8sycx0HEOf",
        "outputId": "e55989e7-60cb-4653-bff2-695c9e62aabb"
      },
      "execution_count": 5,
      "outputs": [
        {
          "output_type": "execute_result",
          "data": {
            "text/plain": [
              "Churn\n",
              "No     5174\n",
              "Yes    1869\n",
              "Name: count, dtype: int64"
            ],
            "text/html": [
              "<div>\n",
              "<style scoped>\n",
              "    .dataframe tbody tr th:only-of-type {\n",
              "        vertical-align: middle;\n",
              "    }\n",
              "\n",
              "    .dataframe tbody tr th {\n",
              "        vertical-align: top;\n",
              "    }\n",
              "\n",
              "    .dataframe thead th {\n",
              "        text-align: right;\n",
              "    }\n",
              "</style>\n",
              "<table border=\"1\" class=\"dataframe\">\n",
              "  <thead>\n",
              "    <tr style=\"text-align: right;\">\n",
              "      <th></th>\n",
              "      <th>count</th>\n",
              "    </tr>\n",
              "    <tr>\n",
              "      <th>Churn</th>\n",
              "      <th></th>\n",
              "    </tr>\n",
              "  </thead>\n",
              "  <tbody>\n",
              "    <tr>\n",
              "      <th>No</th>\n",
              "      <td>5174</td>\n",
              "    </tr>\n",
              "    <tr>\n",
              "      <th>Yes</th>\n",
              "      <td>1869</td>\n",
              "    </tr>\n",
              "  </tbody>\n",
              "</table>\n",
              "</div><br><label><b>dtype:</b> int64</label>"
            ]
          },
          "metadata": {},
          "execution_count": 5
        }
      ]
    },
    {
      "cell_type": "markdown",
      "source": [
        "Podemos observar que tenemos variables de tipo object, int, float, en este caso para las hipotesis de los modelos de arboles de decision y bosque aleatorio sera necesario codificarlas, SVM y perceptron necesitan conversion y escalado"
      ],
      "metadata": {
        "id": "l8OZAs8xx3dA"
      }
    },
    {
      "cell_type": "code",
      "source": [
        "print(df.isnull().sum())"
      ],
      "metadata": {
        "colab": {
          "base_uri": "https://localhost:8080/"
        },
        "id": "hfmc77oB6gKY",
        "outputId": "ee4a6115-ee9c-410d-d7a8-af563be9f709"
      },
      "execution_count": 6,
      "outputs": [
        {
          "output_type": "stream",
          "name": "stdout",
          "text": [
            "customerID          0\n",
            "gender              0\n",
            "SeniorCitizen       0\n",
            "Partner             0\n",
            "Dependents          0\n",
            "tenure              0\n",
            "PhoneService        0\n",
            "MultipleLines       0\n",
            "InternetService     0\n",
            "OnlineSecurity      0\n",
            "OnlineBackup        0\n",
            "DeviceProtection    0\n",
            "TechSupport         0\n",
            "StreamingTV         0\n",
            "StreamingMovies     0\n",
            "Contract            0\n",
            "PaperlessBilling    0\n",
            "PaymentMethod       0\n",
            "MonthlyCharges      0\n",
            "TotalCharges        0\n",
            "Churn               0\n",
            "dtype: int64\n"
          ]
        }
      ]
    },
    {
      "cell_type": "markdown",
      "source": [
        "Se puede observar que no existen valores nulos en la data, sin embargo se habla de que la mayoria de datos son tipo texto, entonces es necesario explorar entre valores numericos y valores de tipo int"
      ],
      "metadata": {
        "id": "uuhh6Ysq6h28"
      }
    },
    {
      "cell_type": "code",
      "source": [
        "\n",
        "print(df.describe())       # Numéricas\n",
        "print(df.describe(include=\"object\"))  # Categóricas\n"
      ],
      "metadata": {
        "colab": {
          "base_uri": "https://localhost:8080/"
        },
        "id": "ucchfdMp4HlJ",
        "outputId": "3e817870-95ed-495e-971d-2bda0e5c7129"
      },
      "execution_count": 7,
      "outputs": [
        {
          "output_type": "stream",
          "name": "stdout",
          "text": [
            "       SeniorCitizen       tenure  MonthlyCharges\n",
            "count    7043.000000  7043.000000     7043.000000\n",
            "mean        0.162147    32.371149       64.761692\n",
            "std         0.368612    24.559481       30.090047\n",
            "min         0.000000     0.000000       18.250000\n",
            "25%         0.000000     9.000000       35.500000\n",
            "50%         0.000000    29.000000       70.350000\n",
            "75%         0.000000    55.000000       89.850000\n",
            "max         1.000000    72.000000      118.750000\n",
            "        customerID gender Partner Dependents PhoneService MultipleLines  \\\n",
            "count         7043   7043    7043       7043         7043          7043   \n",
            "unique        7043      2       2          2            2             3   \n",
            "top     3186-AJIEK   Male      No         No          Yes            No   \n",
            "freq             1   3555    3641       4933         6361          3390   \n",
            "\n",
            "       InternetService OnlineSecurity OnlineBackup DeviceProtection  \\\n",
            "count             7043           7043         7043             7043   \n",
            "unique               3              3            3                3   \n",
            "top        Fiber optic             No           No               No   \n",
            "freq              3096           3498         3088             3095   \n",
            "\n",
            "       TechSupport StreamingTV StreamingMovies        Contract  \\\n",
            "count         7043        7043            7043            7043   \n",
            "unique           3           3               3               3   \n",
            "top             No          No              No  Month-to-month   \n",
            "freq          3473        2810            2785            3875   \n",
            "\n",
            "       PaperlessBilling     PaymentMethod TotalCharges Churn  \n",
            "count              7043              7043         7043  7043  \n",
            "unique                2                 4         6531     2  \n",
            "top                 Yes  Electronic check                 No  \n",
            "freq               4171              2365           11  5174  \n"
          ]
        }
      ]
    },
    {
      "cell_type": "markdown",
      "source": [
        "Podemos observar que las estadisticas descriptivas para las variables numericas y los valores unicos y sus frecuencias para las variables categoricas , dentro de eso vemos que hay variables binarias y variables categoricas nominales, ademas observamos que la variable total charges , se toma como object siendo float, es necesario revuisarla"
      ],
      "metadata": {
        "id": "YdJsnsIL4NL0"
      }
    },
    {
      "cell_type": "code",
      "source": [
        "for col in df.select_dtypes(include=\"object\").columns:\n",
        "    print(col, \":\", df[col].mode()[0])\n"
      ],
      "metadata": {
        "colab": {
          "base_uri": "https://localhost:8080/"
        },
        "id": "rHuuLECC9T88",
        "outputId": "8223d27c-9b26-47b0-9164-8644593dcac8"
      },
      "execution_count": 8,
      "outputs": [
        {
          "output_type": "stream",
          "name": "stdout",
          "text": [
            "customerID : 0002-ORFBO\n",
            "gender : Male\n",
            "Partner : No\n",
            "Dependents : No\n",
            "PhoneService : Yes\n",
            "MultipleLines : No\n",
            "InternetService : Fiber optic\n",
            "OnlineSecurity : No\n",
            "OnlineBackup : No\n",
            "DeviceProtection : No\n",
            "TechSupport : No\n",
            "StreamingTV : No\n",
            "StreamingMovies : No\n",
            "Contract : Month-to-month\n",
            "PaperlessBilling : Yes\n",
            "PaymentMethod : Electronic check\n",
            "TotalCharges :  \n",
            "Churn : No\n"
          ]
        }
      ]
    },
    {
      "cell_type": "code",
      "source": [
        "# Revisar el tipo de dato\n",
        "print(df['TotalCharges'].dtype)\n",
        "\n",
        "# Revisar valores únicos \"problemáticos\"\n",
        "print(df['TotalCharges'].unique()[:20])  # primeros 20 valores únicos\n",
        "\n"
      ],
      "metadata": {
        "colab": {
          "base_uri": "https://localhost:8080/"
        },
        "id": "ZC71jx0--zdh",
        "outputId": "ed8a3150-802f-4df9-8e06-d8384137cebf"
      },
      "execution_count": 9,
      "outputs": [
        {
          "output_type": "stream",
          "name": "stdout",
          "text": [
            "object\n",
            "['29.85' '1889.5' '108.15' '1840.75' '151.65' '820.5' '1949.4' '301.9'\n",
            " '3046.05' '3487.95' '587.45' '326.8' '5681.1' '5036.3' '2686.05'\n",
            " '7895.15' '1022.95' '7382.25' '528.35' '1862.9']\n"
          ]
        }
      ]
    },
    {
      "cell_type": "code",
      "source": [
        "# Revisar si hay valores vacíos (espacios en blanco)\n",
        "print(df['TotalCharges'].isnull().sum())  # detecta nulos como NaN\n",
        "print((df['TotalCharges'] == \" \").sum())  # detecta si hay espacios en blanco"
      ],
      "metadata": {
        "colab": {
          "base_uri": "https://localhost:8080/"
        },
        "id": "aQ1MWbDu_CIK",
        "outputId": "641205ec-d3af-4023-d5f9-f9f82cbc6c83"
      },
      "execution_count": 10,
      "outputs": [
        {
          "output_type": "stream",
          "name": "stdout",
          "text": [
            "0\n",
            "11\n"
          ]
        }
      ]
    },
    {
      "cell_type": "code",
      "source": [
        "#observamos que los valores como espacios en blanco afectan el tipo de la variables, es necesario limpiar e imputar\n",
        "# Reemplazar espacios en blanco por NaN\n",
        "df['TotalCharges'] = df['TotalCharges'].replace(\" \", pd.NA)\n",
        "\n",
        "# Convertir a float\n",
        "df['TotalCharges'] = pd.to_numeric(df['TotalCharges'])\n",
        "\n",
        "# Verificar valores nulos\n",
        "print(df['TotalCharges'].isnull().sum())\n"
      ],
      "metadata": {
        "colab": {
          "base_uri": "https://localhost:8080/"
        },
        "id": "km0VDnUb_T0g",
        "outputId": "b32a3e8c-aae9-4793-c2f6-7619d1b144a4"
      },
      "execution_count": 11,
      "outputs": [
        {
          "output_type": "stream",
          "name": "stdout",
          "text": [
            "11\n"
          ]
        }
      ]
    },
    {
      "cell_type": "code",
      "source": [
        "#siendo solo 11 valores se decide eiminar\n",
        "df = df.dropna(subset=['TotalCharges'])\n"
      ],
      "metadata": {
        "id": "Xo8_ab4T_j2p"
      },
      "execution_count": 12,
      "outputs": []
    },
    {
      "cell_type": "code",
      "source": [
        "df.info()\n"
      ],
      "metadata": {
        "colab": {
          "base_uri": "https://localhost:8080/"
        },
        "id": "4Nk1XQSlAQhh",
        "outputId": "fdd38c8e-7d50-4ecc-b55f-0c2d95ca5b55"
      },
      "execution_count": 13,
      "outputs": [
        {
          "output_type": "stream",
          "name": "stdout",
          "text": [
            "<class 'pandas.core.frame.DataFrame'>\n",
            "Index: 7032 entries, 0 to 7042\n",
            "Data columns (total 21 columns):\n",
            " #   Column            Non-Null Count  Dtype  \n",
            "---  ------            --------------  -----  \n",
            " 0   customerID        7032 non-null   object \n",
            " 1   gender            7032 non-null   object \n",
            " 2   SeniorCitizen     7032 non-null   int64  \n",
            " 3   Partner           7032 non-null   object \n",
            " 4   Dependents        7032 non-null   object \n",
            " 5   tenure            7032 non-null   int64  \n",
            " 6   PhoneService      7032 non-null   object \n",
            " 7   MultipleLines     7032 non-null   object \n",
            " 8   InternetService   7032 non-null   object \n",
            " 9   OnlineSecurity    7032 non-null   object \n",
            " 10  OnlineBackup      7032 non-null   object \n",
            " 11  DeviceProtection  7032 non-null   object \n",
            " 12  TechSupport       7032 non-null   object \n",
            " 13  StreamingTV       7032 non-null   object \n",
            " 14  StreamingMovies   7032 non-null   object \n",
            " 15  Contract          7032 non-null   object \n",
            " 16  PaperlessBilling  7032 non-null   object \n",
            " 17  PaymentMethod     7032 non-null   object \n",
            " 18  MonthlyCharges    7032 non-null   float64\n",
            " 19  TotalCharges      7032 non-null   float64\n",
            " 20  Churn             7032 non-null   object \n",
            "dtypes: float64(2), int64(2), object(17)\n",
            "memory usage: 1.2+ MB\n"
          ]
        }
      ]
    },
    {
      "cell_type": "code",
      "source": [
        "#Balanceo\n",
        "print(df[\"Churn\"].value_counts())\n",
        "print(df[\"Churn\"].value_counts(normalize=True))\n"
      ],
      "metadata": {
        "colab": {
          "base_uri": "https://localhost:8080/"
        },
        "id": "lESsSGrP9bHC",
        "outputId": "fe450eac-e0ac-4325-d30a-29945ac12795"
      },
      "execution_count": 14,
      "outputs": [
        {
          "output_type": "stream",
          "name": "stdout",
          "text": [
            "Churn\n",
            "No     5163\n",
            "Yes    1869\n",
            "Name: count, dtype: int64\n",
            "Churn\n",
            "No     0.734215\n",
            "Yes    0.265785\n",
            "Name: proportion, dtype: float64\n"
          ]
        }
      ]
    },
    {
      "cell_type": "markdown",
      "source": [
        "podemos observar que la data esta desbalanceada , para SVM y Redes requieren SMOTE o undersampling, en el caso de Árboles de decision y bosque aleatorio pueden manejarlo, pero se recomienda balancear."
      ],
      "metadata": {
        "id": "wg9BuXXV9ouL"
      }
    },
    {
      "cell_type": "code",
      "source": [],
      "metadata": {
        "id": "lxapvEuOBL6z"
      },
      "execution_count": 14,
      "outputs": []
    },
    {
      "cell_type": "code",
      "source": [
        "import seaborn as sns\n",
        "import matplotlib.pyplot as plt\n",
        "\n",
        "sns.boxplot(data=df, x=\"Churn\", y=\"MonthlyCharges\")\n",
        "plt.show()\n",
        "\n",
        "sns.boxplot(data=df, x=\"Churn\", y=\"tenure\")\n",
        "plt.show()\n",
        "\n",
        "sns.boxplot(data=df, x=\"Churn\", y=\"TotalCharges\")\n",
        "plt.show()\n"
      ],
      "metadata": {
        "colab": {
          "base_uri": "https://localhost:8080/",
          "height": 1000
        },
        "id": "L-eh_ZWH92Jd",
        "outputId": "e9dd67bf-2358-4636-dd54-a8260c1d0c81"
      },
      "execution_count": 15,
      "outputs": [
        {
          "output_type": "display_data",
          "data": {
            "text/plain": [
              "<Figure size 640x480 with 1 Axes>"
            ],
            "image/png": "[encoded data removed]"
          },
          "metadata": {}
        },
        {
          "output_type": "display_data",
          "data": {
            "text/plain": [
              "<Figure size 640x480 with 1 Axes>"
            ],
            "image/png": "[encoded data removed]"
          },
          "metadata": {}
        },
        {
          "output_type": "display_data",
          "data": {
            "text/plain": [
              "<Figure size 640x480 with 1 Axes>"
            ],
            "image/png": "[encoded data removed]"
          },
          "metadata": {}
        }
      ]
    },
    {
      "cell_type": "markdown",
      "source": [
        "Podemos observar que no hay presencia de muchos valores atípicos, y podemos observar en estas variables comportamientos entre clases referente a la variable clase CHURN, importante si se quiere trabajar con SVM, arboles de decisionn y bosque aleatorio"
      ],
      "metadata": {
        "id": "st9WaA1zC38_"
      }
    },
    {
      "cell_type": "code",
      "source": [
        "categorical_cols = [\"Contract\", \"InternetService\", \"PaymentMethod\"]\n",
        "\n",
        "for col in categorical_cols:\n",
        "    ct = pd.crosstab(df[col], df[\"Churn\"], normalize=\"index\")\n",
        "    print(ct, \"\\n\")\n",
        "    ct.plot(kind=\"bar\", stacked=True, title=col)\n",
        "    plt.show()\n"
      ],
      "metadata": {
        "colab": {
          "base_uri": "https://localhost:8080/",
          "height": 1000
        },
        "id": "ab4Qm0VXDlIH",
        "outputId": "00da1291-6272-4273-917f-d8c117f751f0"
      },
      "execution_count": 16,
      "outputs": [
        {
          "output_type": "stream",
          "name": "stdout",
          "text": [
            "Churn                 No       Yes\n",
            "Contract                          \n",
            "Month-to-month  0.572903  0.427097\n",
            "One year        0.887228  0.112772\n",
            "Two year        0.971513  0.028487 \n",
            "\n"
          ]
        },
        {
          "output_type": "display_data",
          "data": {
            "text/plain": [
              "<Figure size 640x480 with 1 Axes>"
            ],
            "image/png": "[encoded data removed]"
          },
          "metadata": {}
        },
        {
          "output_type": "stream",
          "name": "stdout",
          "text": [
            "Churn                  No       Yes\n",
            "InternetService                    \n",
            "DSL              0.810017  0.189983\n",
            "Fiber optic      0.581072  0.418928\n",
            "No               0.925658  0.074342 \n",
            "\n"
          ]
        },
        {
          "output_type": "display_data",
          "data": {
            "text/plain": [
              "<Figure size 640x480 with 1 Axes>"
            ],
            "image/png": "[encoded data removed]"
          },
          "metadata": {}
        },
        {
          "output_type": "stream",
          "name": "stdout",
          "text": [
            "Churn                            No       Yes\n",
            "PaymentMethod                                \n",
            "Bank transfer (automatic)  0.832685  0.167315\n",
            "Credit card (automatic)    0.847469  0.152531\n",
            "Electronic check           0.547146  0.452854\n",
            "Mailed check               0.807980  0.192020 \n",
            "\n"
          ]
        },
        {
          "output_type": "display_data",
          "data": {
            "text/plain": [
              "<Figure size 640x480 with 1 Axes>"
            ],
            "image/png": "[encoded data removed]"
          },
          "metadata": {}
        }
      ]
    },
    {
      "cell_type": "markdown",
      "source": [
        "Podemos observar la importancia de estas variables que nos muestran lineas de division relevantes"
      ],
      "metadata": {
        "id": "dab6KmLzEKlg"
      }
    },
    {
      "cell_type": "code",
      "source": [
        "sns.heatmap(df[[\"tenure\", \"MonthlyCharges\", \"TotalCharges\"]].corr(), annot=True, cmap=\"coolwarm\")\n",
        "plt.show()\n"
      ],
      "metadata": {
        "colab": {
          "base_uri": "https://localhost:8080/",
          "height": 435
        },
        "id": "nwHQfjq4ES9w",
        "outputId": "d797bb58-71c6-4f54-88c8-f646ed318e46"
      },
      "execution_count": 17,
      "outputs": [
        {
          "output_type": "display_data",
          "data": {
            "text/plain": [
              "<Figure size 640x480 with 2 Axes>"
            ],
            "image/png": "[encoded data removed]"
          },
          "metadata": {}
        }
      ]
    },
    {
      "cell_type": "markdown",
      "source": [
        "###**Crítica de las Hipótesis**"
      ],
      "metadata": {
        "id": "Qoi_o-_qGipK"
      }
    },
    {
      "cell_type": "markdown",
      "source": [
        "####**Hipótesis 1: Árbol de decisión**:\n",
        "\n",
        "El dataset cuenta con 17 variables categóricas y 4 numéricas (2 float y 2 int).La variable objetivo Churn es binaria (No = 5163, Yes = 1869), lo cual confirma que se trata de un problema de clasificación binaria.\n",
        "Existe cierto desbalance de clases (aprox. 73% No vs. 27% Sí), lo cual puede afectar al árbol si no se consideran técnicas de balanceo o métricas adecuadas.\n",
        "\n",
        "**Parámetros**: El árbol de decisión requiere estimar parámetros como:\n",
        "max_depth (profundidad máxima del árbol, controla el sobreajuste),\n",
        "min_samples_split y min_samples_leaf (tamaño mínimo de muestra para dividir un nodo y para considerarlo hoja),\n",
        "criterion (métrica de impureza: Gini o Entropía).\n",
        "\n",
        "Estos parámetros sí pueden estimarse con el dataset actual, ya que hay suficiente número de observaciones (7032 clientes)\n",
        "\n",
        "**Entrada:** todas las variables explicativas (categóricas transformadas a numéricas + variables numéricas).\n",
        "\n",
        "**Salida:** variable Churn (Sí/No).\n",
        "\n",
        "El árbol puede procesar tanto variables categóricas como numéricas (tras la codificación adecuada), por lo que la técnica es compatible con los datos.\n",
        "\n",
        "**Evaluación del modelo:** Es posible realizar una evaluación objetiva usando métricas de clasificación: Accuracy (exactitud general),Precision (qué tan confiables son las predicciones positivas), Recall (qué tanto detecta la clase minoritaria, Churn), F1-Score (balance entre precisión y recall)., ROC-AUC (mide la capacidad del modelo para separar ambas clases).\n",
        "Dado el desbalance de clases, métricas como Recall, F1 y ROC-AUC son más relevantes que Accuracy.\n",
        "\n",
        "**Requisitos de preparación de datos**: Encoding: convertir variables categóricas (object) a numéricas (ejemplo: LabelEncoder o OneHotEncoder).\n",
        "Balanceo de clases: dado que Churn está desbalanceado, conviene usar técnicas como class_weight=\"balanced\" en el árbol O aplicar SMOTE (sobremuestreo de la clase minoritaria).\n",
        "\n",
        "**Conclusión:**\n",
        "El árbol de decisión es aplicable al problema, es fácil de interpretar al generar reglas de decisión claras, los datos cumplen los requisitos mínimos para implementarlo, requiere encoding de categóricas y balanceo de clases para mejorar el desempeño, puede sobreajustar si no se controla la profundidad y tamaño de nodos."
      ],
      "metadata": {
        "id": "DdCCuVIuGmsr"
      }
    },
    {
      "cell_type": "markdown",
      "source": [
        "###**Hipótesis 2: Random Forest:**\n",
        "\n",
        "El Dataset tiene 7032 registros, 17 variables categóricas, 4 numéricas (2 float, 2 int).\n",
        "\n",
        "**Variable objetivo:** Churn (binaria, desbalanceada: 73% No vs. 27% Sí)\n",
        "\n",
        "Random Forest puede trabajar con este dataset porque maneja variables categóricas, es robusto frente a outliers y ruido, captura relaciones no lineales y complejas entre variables, algo que un árbol simple no siempre logra.\n",
        "\n",
        "**Parámetros a estimar:** n_estimators: número de árboles en el bosque, criterion: función de impureza (Gini, Entropía), max_depth: profundidad máxima de cada árbol, max_features: número máximo de variables consideradas en cada división (importante para reducir correlación entre árboles), min_samples_split y min_samples_leaf: controlan tamaño mínimo de nodos, bootstrap: si usar muestreo con reemplazo para entrenar cada árbol, OOB Score (Out-of-Bag): permite evaluar el modelo sin necesidad de usar validación cruzada en algunos casos.\n",
        " Con 7032 observaciones, es posible estimar estos hiperparámetros de forma confiable (usando validación cruzada o RandomizedSearchCV / Optuna).\n",
        "\n",
        "**Entrada:** todas las variables (categóricas transformadas + numéricas).\n",
        "\n",
        "**Salida:** Churn (Sí/No).\n",
        "\n",
        "Random Forest soporta perfectamente este esquema, incluso si hay correlación entre variables.\n",
        "\n",
        "**Requisitos de preparación de datos**: Encoding: igual que en el árbol de decisión (OneHot o Label Encoding), Balanceo de clases: necesario, porque el bosque podría sesgarse hacia la clase mayoritaria, Técnicas de sobremuestreo (SMOTE).\n",
        "\n",
        "\n",
        "**Evaluación de la hipótesis**\n",
        "\n",
        "Al ser un modelo más robusto que un solo árbol, se espera un mejor desempeño general, Métricas a usar seran igual que en arboles de decisión pero con más peso en Recall y ROC-AUC por el desbalance.\n",
        "\n",
        "También es posible evaluar importancia de variables para interpretar qué factores explican más el Churn.\n",
        "\n",
        "**Conclusión**\n",
        "\n",
        "Random Forest es aplicable al problema y probablemente supere en desempeño al Árbol de Decisión, sus ventajas, reduce sobreajuste al promediar múltiples árboles, puede capturar relaciones más complejas, permite evaluar importancia de variables.\n",
        "Sus desventajas: Menos interpretable que un solo árbol, requiere más recursos computacionales."
      ],
      "metadata": {
        "id": "1pdECtlkLnrg"
      }
    },
    {
      "cell_type": "markdown",
      "source": [
        "###**Hipótesis 3: Máquina de vectores de soporte:**\n",
        "\n",
        "\n",
        "**Variable objetivo:** Churn (desbalanceada: 73% No vs 27% Sí)\n",
        "\n",
        "SVM es adecuado para clasificación binaria, pero escala mal con datasets grandes (entrenar sobre >5000 observaciones puede ser costoso, aunque manejable con kernels lineales), requiere que los datos numéricos estén escalados y necesita codificación de variables categóricas.\n",
        "\n",
        "El dataset es moderado (7032 registros), por lo que se puede aplicar SVM con un kernel lineal o radial (RBF), pero habrá que medir bien el tiempo de cómputo.\n",
        "\n",
        "**Parámetros a estimar (hiperparámetros importantes)**\n",
        "C: controla la regularización, kernel: función de transformación (lineal, RBF, polinomial, sigmoidal), gamma: aplica en kernels RBF/polinomiales, controla la influencia de un solo punto de entrenamiento.\n",
        "\n",
        "Con validación cruzada y búsqueda de hiperparámetros (GridSearchCV u Optuna) se pueden estimar de forma confiable.\n",
        "\n",
        "**Entrada:** variables numéricas escaladas + categóricas transformadas.\n",
        "\n",
        "**Salida:** Churn (Sí/No).\n",
        "\n",
        "El modelo es compatible, pero requiere preprocesamiento más estricto que los árboles.\n",
        "\n",
        "**Requisitos de preparación de datos:** Encoding: necesario, Escalado: obligatorio (MinMaxScaler, StandardScaler), porque SVM usa distancias, Balanceo de clases: importante, porque SVM es sensible al desbalance, Outliers: pueden afectar mucho, se recomienda detectar y tratarlos.\n",
        "\n",
        "**Evaluación de la hipótesis:** SVM puede lograr alta precisión en fronteras complejas, pero es más difícil de interpretar, dentro de las métricas recomendadas estan Recall, ROC-AUC, F1 (porque dataset está desbalanceado).\n",
        "\n",
        "Dado que es más pesado computacionalmente, podría no escalar tan bien como Random Forest en este dataset.\n",
        "\n",
        "**Conclusión**\n",
        "Sí se puede aplicar SVM para el problema de Churn, pero con condiciones: Se deben escalar las variables, se debe balancear la clase minoritaria, Hay que elegir bien el kernel según los datos (lineal o RBF son los más comunes).\n"
      ],
      "metadata": {
        "id": "_prLKhHhNfHt"
      }
    },
    {
      "cell_type": "markdown",
      "source": [
        "###**Hipótesis 4: Perceptrón Multicapa**\n",
        "\n",
        "**Variable objetivo:** Churn (desbalanceada: 73% No vs 27% Sí).\n",
        "\n",
        "El MLP es adecuado porque puede aprender relaciones no lineales y complejas entre variables categóricas y numéricas pero requiere mucho preprocesamiento y más tiempo de entrenamiento que árboles o SVM.\n",
        "\n",
        "**Parámetros a estimar (hiperparámetros importantes):** hidden_layer_sizes: número de capas y neuronas, activation: función de activación, solver: optimizador, alpha: regularización (controla sobreajuste), learning_rate: tasa de aprendizaje, max_iter: número máximo de iteraciones.\n",
        "Requiere validación cruzada para encontrar la mejor combinación.\n",
        "\n",
        "**Entrada:** variables numéricas escaladas + categóricas codificadas.\n",
        "**Salida:** probabilidad de Churn Sí/No.\n",
        "\n",
        "Compatible, pero requiere OneHotEncoder para categóricas, Escalado\n",
        "\n",
        "**Requisitos de preparación de datos:** Encoding: necesario (OneHot para categóricas), Escalado: obligatorio, porque redes neuronales funcionan mejor cuando los datos están en el mismo rango, Balanceo de clases: importante Normalización: recomendable para convergencia estable.\n",
        "\n",
        "**Evaluación de la hipótesis:** MLP es poderoso pero más difícil de interpretar que árboles, tiende a sobreajustar con pocos datos o sin regularización.\n",
        "\n",
        "Métricas recomendadas: ROC-AUC, F1, Recall (porque dataset está desbalanceado).\n",
        "\n",
        "**Conclusión**\n",
        "Sí es posible aplicar un MLP, puede detectar patrones complejos pero es menos interpretable, más costoso computacionalmente, requiere mucho preprocesamiento.\n",
        "\n",
        "Para este dataset no muy grande, un MLP podría funcionar bien, pero no necesariamente mejor que Random Forest o SVM."
      ],
      "metadata": {
        "id": "1xaRBRoAOtWp"
      }
    },
    {
      "cell_type": "markdown",
      "source": [
        "###**Elección de los Modelos**"
      ],
      "metadata": {
        "id": "OmLjB3KsPpbq"
      }
    }
  ]
}